{
 "cells": [
  {
   "cell_type": "markdown",
   "metadata": {},
   "source": [
    "# Textual Analytics on Amazon Fine Food Reviews"
   ]
  },
  {
   "cell_type": "code",
   "execution_count": 89,
   "metadata": {},
   "outputs": [],
   "source": [
    "import numpy as np\n",
    "import pandas as pd\n"
   ]
  },
  {
   "cell_type": "code",
   "execution_count": 90,
   "metadata": {},
   "outputs": [],
   "source": [
    "data = pd.read_csv('./Reviews.csv')"
   ]
  },
  {
   "cell_type": "code",
   "execution_count": 91,
   "metadata": {},
   "outputs": [],
   "source": [
    "data.drop(['Id', 'ProductId','ProfileName', 'HelpfulnessNumerator',\n",
    "       'HelpfulnessDenominator', 'Score', 'Time', 'Summary'], inplace=True, axis=1)"
   ]
  },
  {
   "cell_type": "code",
   "execution_count": 92,
   "metadata": {},
   "outputs": [
    {
     "data": {
      "text/plain": [
       "(568454, 2)"
      ]
     },
     "execution_count": 92,
     "metadata": {},
     "output_type": "execute_result"
    }
   ],
   "source": [
    "data.shape"
   ]
  },
  {
   "cell_type": "code",
   "execution_count": 93,
   "metadata": {},
   "outputs": [],
   "source": [
    "data1 = data.head(30000)"
   ]
  },
  {
   "cell_type": "code",
   "execution_count": 140,
   "metadata": {},
   "outputs": [],
   "source": [
    "data1.to_csv('./subsetData.csv')"
   ]
  },
  {
   "cell_type": "code",
   "execution_count": 94,
   "metadata": {},
   "outputs": [
    {
     "data": {
      "text/plain": [
       "(30000, 2)"
      ]
     },
     "execution_count": 94,
     "metadata": {},
     "output_type": "execute_result"
    }
   ],
   "source": [
    "data1.shape"
   ]
  },
  {
   "cell_type": "code",
   "execution_count": 95,
   "metadata": {},
   "outputs": [],
   "source": [
    "from sklearn.model_selection import train_test_split\n",
    "\n",
    "train, test = train_test_split(data1, test_size=0.3)"
   ]
  },
  {
   "cell_type": "code",
   "execution_count": 96,
   "metadata": {},
   "outputs": [
    {
     "data": {
      "text/plain": [
       "21000"
      ]
     },
     "execution_count": 96,
     "metadata": {},
     "output_type": "execute_result"
    }
   ],
   "source": [
    "len(train)\n",
    "#len(test)"
   ]
  },
  {
   "cell_type": "code",
   "execution_count": 97,
   "metadata": {
    "scrolled": true
   },
   "outputs": [],
   "source": [
    "#data.shape"
   ]
  },
  {
   "cell_type": "code",
   "execution_count": 98,
   "metadata": {},
   "outputs": [
    {
     "data": {
      "text/plain": [
       "Index(['UserId', 'Text'], dtype='object')"
      ]
     },
     "execution_count": 98,
     "metadata": {},
     "output_type": "execute_result"
    }
   ],
   "source": [
    "train.columns"
   ]
  },
  {
   "cell_type": "code",
   "execution_count": 99,
   "metadata": {},
   "outputs": [
    {
     "data": {
      "text/html": [
       "<div>\n",
       "<style scoped>\n",
       "    .dataframe tbody tr th:only-of-type {\n",
       "        vertical-align: middle;\n",
       "    }\n",
       "\n",
       "    .dataframe tbody tr th {\n",
       "        vertical-align: top;\n",
       "    }\n",
       "\n",
       "    .dataframe thead th {\n",
       "        text-align: right;\n",
       "    }\n",
       "</style>\n",
       "<table border=\"1\" class=\"dataframe\">\n",
       "  <thead>\n",
       "    <tr style=\"text-align: right;\">\n",
       "      <th></th>\n",
       "      <th>UserId</th>\n",
       "      <th>Text</th>\n",
       "    </tr>\n",
       "  </thead>\n",
       "  <tbody>\n",
       "    <tr>\n",
       "      <th>4899</th>\n",
       "      <td>A3L964J8M7I7KF</td>\n",
       "      <td>This coffee is bold, dark and tasty. unlike ma...</td>\n",
       "    </tr>\n",
       "    <tr>\n",
       "      <th>22391</th>\n",
       "      <td>A265B1IZE5RVG6</td>\n",
       "      <td>We love these pretzels.  Appreciate the long e...</td>\n",
       "    </tr>\n",
       "    <tr>\n",
       "      <th>25677</th>\n",
       "      <td>AE1ZME0QHI8U</td>\n",
       "      <td>Kind of bitter. I recommend buying on first in...</td>\n",
       "    </tr>\n",
       "    <tr>\n",
       "      <th>12975</th>\n",
       "      <td>A2BK3Z3E2QL89P</td>\n",
       "      <td>I have tried all the Via blends, and my favori...</td>\n",
       "    </tr>\n",
       "    <tr>\n",
       "      <th>13198</th>\n",
       "      <td>A2XU6J41ZQOJ2V</td>\n",
       "      <td>Good coffee. I guess I expected it to be very ...</td>\n",
       "    </tr>\n",
       "  </tbody>\n",
       "</table>\n",
       "</div>"
      ],
      "text/plain": [
       "               UserId                                               Text\n",
       "4899   A3L964J8M7I7KF  This coffee is bold, dark and tasty. unlike ma...\n",
       "22391  A265B1IZE5RVG6  We love these pretzels.  Appreciate the long e...\n",
       "25677    AE1ZME0QHI8U  Kind of bitter. I recommend buying on first in...\n",
       "12975  A2BK3Z3E2QL89P  I have tried all the Via blends, and my favori...\n",
       "13198  A2XU6J41ZQOJ2V  Good coffee. I guess I expected it to be very ..."
      ]
     },
     "execution_count": 99,
     "metadata": {},
     "output_type": "execute_result"
    }
   ],
   "source": [
    "train.head()"
   ]
  },
  {
   "cell_type": "code",
   "execution_count": 100,
   "metadata": {
    "scrolled": true
   },
   "outputs": [
    {
     "data": {
      "text/plain": [
       "the     67940\n",
       "i       51555\n",
       "and     46475\n",
       "a       43449\n",
       "to      37272\n",
       "of      29205\n",
       "it      28215\n",
       "is      26428\n",
       "this    23061\n",
       "for     20011\n",
       "dtype: int64"
      ]
     },
     "execution_count": 100,
     "metadata": {},
     "output_type": "execute_result"
    }
   ],
   "source": [
    " # We can find many stop words which has to be treated\n",
    "    \n",
    "pd.Series(' '.join(train['Text']).lower().split()).value_counts()[:10]"
   ]
  },
  {
   "cell_type": "markdown",
   "metadata": {},
   "source": [
    "## All Data together"
   ]
  },
  {
   "cell_type": "code",
   "execution_count": 138,
   "metadata": {
    "scrolled": true
   },
   "outputs": [
    {
     "data": {
      "text/plain": [
       "(-0.5, 399.5, 199.5, -0.5)"
      ]
     },
     "execution_count": 138,
     "metadata": {},
     "output_type": "execute_result"
    },
    {
     "data": {
      "image/png": "[encoded data removed]",
      "text/plain": [
       "<Figure size 720x720 with 1 Axes>"
      ]
     },
     "metadata": {
      "needs_background": "light"
     },
     "output_type": "display_data"
    }
   ],
   "source": [
    "import os\n",
    "from os import path\n",
    "from wordcloud import WordCloud\n",
    "import matplotlib.pyplot as plt\n",
    "\n",
    "# Display the generated image:\n",
    "plt.figure(figsize=(10,10))\n",
    "wordcloud = WordCloud().generate(np.array2string(train[\"Text\"].unique()))\n",
    "plt.imshow(wordcloud, interpolation='bilinear')\n",
    "plt.title(\"Reviews\")\n",
    "plt.axis(\"off\")"
   ]
  },
  {
   "cell_type": "code",
   "execution_count": 102,
   "metadata": {},
   "outputs": [],
   "source": [
    "# Preprocessing - Create Term Frequency Matrix\n",
    "from sklearn.feature_extraction.text import CountVectorizer\n",
    "from sklearn.model_selection import train_test_split"
   ]
  },
  {
   "cell_type": "markdown",
   "metadata": {},
   "source": [
    "Remove punctuation/lower casing"
   ]
  },
  {
   "cell_type": "code",
   "execution_count": 103,
   "metadata": {},
   "outputs": [
    {
     "name": "stderr",
     "output_type": "stream",
     "text": [
      "<>:4: DeprecationWarning: invalid escape sequence \\.\n",
      "<>:4: DeprecationWarning: invalid escape sequence \\.\n",
      "<>:4: DeprecationWarning: invalid escape sequence \\.\n",
      "<ipython-input-103-cadfdf923c1d>:4: DeprecationWarning: invalid escape sequence \\.\n",
      "  train['Text Processed'] = train['Text'].map(lambda x: re.sub('[,\\.!?]', '', x))\n",
      "C:\\Users\\allen\\anaconda3\\lib\\site-packages\\ipykernel_launcher.py:4: SettingWithCopyWarning: \n",
      "A value is trying to be set on a copy of a slice from a DataFrame.\n",
      "Try using .loc[row_indexer,col_indexer] = value instead\n",
      "\n",
      "See the caveats in the documentation: https://pandas.pydata.org/pandas-docs/stable/user_guide/indexing.html#returning-a-view-versus-a-copy\n",
      "  after removing the cwd from sys.path.\n",
      "C:\\Users\\allen\\anaconda3\\lib\\site-packages\\ipykernel_launcher.py:7: SettingWithCopyWarning: \n",
      "A value is trying to be set on a copy of a slice from a DataFrame.\n",
      "Try using .loc[row_indexer,col_indexer] = value instead\n",
      "\n",
      "See the caveats in the documentation: https://pandas.pydata.org/pandas-docs/stable/user_guide/indexing.html#returning-a-view-versus-a-copy\n",
      "  import sys\n"
     ]
    }
   ],
   "source": [
    "\n",
    "\n",
    "# Load the regular expression library\n",
    "import re\n",
    "\n",
    "train['Text Processed'] = train['Text'].map(lambda x: re.sub('[,\\.!?]', '', x))\n",
    "\n",
    "# Convert the titles to lowercase\n",
    "train['Text Processed'] = train['Text'].map(lambda x: x.lower())"
   ]
  },
  {
   "cell_type": "markdown",
   "metadata": {},
   "source": [
    "### Tokenize words and further clean-up text"
   ]
  },
  {
   "cell_type": "code",
   "execution_count": 104,
   "metadata": {},
   "outputs": [
    {
     "name": "stdout",
     "output_type": "stream",
     "text": [
      "There are 9119230 words in the combination of all review.\n"
     ]
    }
   ],
   "source": [
    "text = \" \".join(review for review in train['Text Processed'])\n",
    "print (\"There are {} words in the combination of all review.\".format(len(text)))"
   ]
  },
  {
   "cell_type": "code",
   "execution_count": 105,
   "metadata": {},
   "outputs": [],
   "source": [
    "from nltk.corpus import stopwords \n",
    "from nltk.tokenize import word_tokenize \n",
    "\n",
    "#example_sent = \"This is a sample sentence, showing off the stop words filtration.\"\n",
    "\n",
    "stop_words = set(stopwords.words('english')) \n",
    "\n",
    "word_tokens = word_tokenize(text) \n",
    "\n",
    "#filtered_sentence = [w for w in word_tokens if not w in stop_words] \n",
    "\n",
    "filtered_sentence = [] \n",
    "\n",
    "for w in word_tokens: \n",
    "    if w not in stop_words: \n",
    "        filtered_sentence.append(w) \n",
    "\n",
    "#print(word_tokens) \n",
    "#print(filtered_sentence) \n"
   ]
  },
  {
   "cell_type": "code",
   "execution_count": 106,
   "metadata": {
    "scrolled": true
   },
   "outputs": [
    {
     "data": {
      "text/plain": [
       "['coffee',\n",
       " 'bold',\n",
       " ',',\n",
       " 'dark',\n",
       " 'tasty',\n",
       " '.',\n",
       " 'unlike',\n",
       " 'many',\n",
       " 'types',\n",
       " 'watery',\n",
       " 'weak',\n",
       " 'one',\n",
       " 'brews',\n",
       " 'nice',\n",
       " 'strong',\n",
       " 'cup',\n",
       " 'coffee',\n",
       " '.',\n",
       " 'love',\n",
       " 'pretzels',\n",
       " '.',\n",
       " 'appreciate',\n",
       " 'long',\n",
       " 'expiration',\n",
       " 'date',\n",
       " '.',\n",
       " 'makes',\n",
       " 'great',\n",
       " 'kids',\n",
       " 'snack',\n",
       " 'paired',\n",
       " 'nutella',\n",
       " '.',\n",
       " '5',\n",
       " 'stars',\n",
       " '!',\n",
       " 'kind',\n",
       " 'bitter',\n",
       " '.',\n",
       " 'recommend',\n",
       " 'buying',\n",
       " 'first',\n",
       " 'store',\n",
       " 'buying',\n",
       " 'case',\n",
       " '.',\n",
       " ',',\n",
       " 'almost',\n",
       " 'strips',\n",
       " 'great',\n",
       " 'portable',\n",
       " 'vegetarian',\n",
       " 'protein',\n",
       " 'snack',\n",
       " '.',\n",
       " 'tried',\n",
       " 'via',\n",
       " 'blends',\n",
       " ',',\n",
       " 'favorite',\n",
       " 'far',\n",
       " 'still',\n",
       " 'starbucks',\n",
       " 'tribute',\n",
       " '.',\n",
       " 'sad',\n",
       " 'ran',\n",
       " 'last',\n",
       " 'year',\n",
       " '.',\n",
       " 'back-up',\n",
       " 'columbian',\n",
       " ',',\n",
       " 'always',\n",
       " 'good',\n",
       " ',',\n",
       " 'always',\n",
       " 'loved',\n",
       " 'sumatra',\n",
       " '.',\n",
       " 'cherry',\n",
       " 'note',\n",
       " ',',\n",
       " 'come',\n",
       " 'across',\n",
       " \"'flavor\",\n",
       " \"'\",\n",
       " '.',\n",
       " 'like',\n",
       " 'flavored',\n",
       " 'coffee',\n",
       " '.',\n",
       " 'heat',\n",
       " 'microwave',\n",
       " 'two',\n",
       " 'minutes',\n",
       " 'mug',\n",
       " '1',\n",
       " '%',\n",
       " 'organic',\n",
       " 'milk',\n",
       " '.',\n",
       " 'yummy',\n",
       " '!',\n",
       " '<',\n",
       " 'br',\n",
       " '/',\n",
       " '>',\n",
       " '<',\n",
       " 'br',\n",
       " '/',\n",
       " '>',\n",
       " 'starbucks',\n",
       " 'writes',\n",
       " ':',\n",
       " '.',\n",
       " '.',\n",
       " '.',\n",
       " '``',\n",
       " 'spicy',\n",
       " '&',\n",
       " 'cherry',\n",
       " \"''\",\n",
       " '``',\n",
       " 'beans',\n",
       " 'three',\n",
       " 'world',\n",
       " \"'s\",\n",
       " 'coffee-growing',\n",
       " 'regions',\n",
       " '.',\n",
       " '.',\n",
       " '.',\n",
       " 'aged',\n",
       " 'sumatra',\n",
       " ',',\n",
       " 'sun-dried',\n",
       " 'beans',\n",
       " 'ethiopia',\n",
       " ',',\n",
       " 'coffees',\n",
       " 'papua',\n",
       " 'new',\n",
       " 'guinea',\n",
       " 'colombia',\n",
       " 'come',\n",
       " 'together',\n",
       " 'create',\n",
       " 'spicy',\n",
       " 'full-bodied',\n",
       " 'blend',\n",
       " 'dark',\n",
       " 'cherry',\n",
       " 'notes',\n",
       " '.',\n",
       " \"''\",\n",
       " 'good',\n",
       " 'coffee',\n",
       " '.',\n",
       " 'guess',\n",
       " 'expected',\n",
       " 'strong',\n",
       " ',',\n",
       " '``',\n",
       " 'european',\n",
       " \"''\",\n",
       " ',',\n",
       " 'pleasant',\n",
       " '.',\n",
       " '(',\n",
       " 'course',\n",
       " \"n't\",\n",
       " 'make',\n",
       " 'strong',\n",
       " ',',\n",
       " 'either',\n",
       " ')',\n",
       " '.',\n",
       " 'vine',\n",
       " 'package',\n",
       " '11-ounces',\n",
       " ',',\n",
       " '``',\n",
       " 'pack',\n",
       " '3',\n",
       " \"''\",\n",
       " 'understood',\n",
       " '.',\n",
       " ',',\n",
       " 'good',\n",
       " 'coffee',\n",
       " ',',\n",
       " \"n't\",\n",
       " 'find',\n",
       " 'especially',\n",
       " '``',\n",
       " 'outstanding',\n",
       " \"''\",\n",
       " '.',\n",
       " 'favorite',\n",
       " 'coffee',\n",
       " 'still',\n",
       " '``',\n",
       " 'eight-o-clock',\n",
       " \"''\",\n",
       " 'brand',\n",
       " ',',\n",
       " 'costs',\n",
       " 'lot',\n",
       " 'less',\n",
       " '.',\n",
       " 'overall',\n",
       " 'chips',\n",
       " 'tastey',\n",
       " '.',\n",
       " 'pickey',\n",
       " 'daughter',\n",
       " 'even',\n",
       " 'liked',\n",
       " 'real',\n",
       " 'plus',\n",
       " '.',\n",
       " 'flavors',\n",
       " 'better',\n",
       " 'meet',\n",
       " 'expectations',\n",
       " '.',\n",
       " 'try',\n",
       " 'see',\n",
       " 'yourelf',\n",
       " ',',\n",
       " 'enjoy',\n",
       " '.',\n",
       " 'celestial',\n",
       " 'seasonings',\n",
       " 'peppermint',\n",
       " 'herb',\n",
       " 'tea',\n",
       " 'best',\n",
       " 'tasting',\n",
       " 'peppermint',\n",
       " 'tea',\n",
       " 'market',\n",
       " ',',\n",
       " 'bar',\n",
       " 'none',\n",
       " '.',\n",
       " 'holiday',\n",
       " 'meals',\n",
       " 'groaning',\n",
       " 'table',\n",
       " ',',\n",
       " \"'s\",\n",
       " 'nice',\n",
       " 'box',\n",
       " 'peppermint',\n",
       " 'tea',\n",
       " 'sooth',\n",
       " 'overstuffed',\n",
       " 'tummies',\n",
       " '.',\n",
       " 'highly',\n",
       " 'recommend',\n",
       " '.',\n",
       " \"n't\",\n",
       " 'write',\n",
       " 'reviews',\n",
       " \"'m\",\n",
       " 'going',\n",
       " 'say',\n",
       " 'decent',\n",
       " 'product',\n",
       " 'buy',\n",
       " \"'re\",\n",
       " 'looking',\n",
       " 'spend',\n",
       " 'hundreds',\n",
       " 'dollars',\n",
       " 'mixer',\n",
       " ',',\n",
       " 'phantom',\n",
       " 'power',\n",
       " 'supply',\n",
       " ',',\n",
       " 'pre-amp',\n",
       " 'xlr',\n",
       " 'mic',\n",
       " 'recording',\n",
       " '.',\n",
       " 'guess',\n",
       " 'little',\n",
       " 'thing',\n",
       " 'one',\n",
       " 'low',\n",
       " 'price',\n",
       " '!',\n",
       " 'cop',\n",
       " 'one',\n",
       " '!',\n",
       " 'great',\n",
       " 'popcorn',\n",
       " '!',\n",
       " 'extras',\n",
       " 'needed',\n",
       " '.',\n",
       " 'dump',\n",
       " 'let',\n",
       " 'popper',\n",
       " 'rest',\n",
       " '.',\n",
       " 'good',\n",
       " 'better',\n",
       " 'movies',\n",
       " '!',\n",
       " '!',\n",
       " '!',\n",
       " '!',\n",
       " '!',\n",
       " 'see',\n",
       " 'bad',\n",
       " 'reviews',\n",
       " 'unpopped',\n",
       " 'corn',\n",
       " '``',\n",
       " 'great',\n",
       " 'northern',\n",
       " 'popcorn',\n",
       " \"''\",\n",
       " 'stir',\n",
       " 'crazy',\n",
       " 'popper',\n",
       " '!',\n",
       " 'corn',\n",
       " 'pops',\n",
       " 'big',\n",
       " 'top',\n",
       " 'popper',\n",
       " 'rises',\n",
       " 'spills',\n",
       " 'counter',\n",
       " '.',\n",
       " 'found',\n",
       " 'product',\n",
       " 'local',\n",
       " 'walmart',\n",
       " ',',\n",
       " 'trying',\n",
       " 'vainly',\n",
       " 'find',\n",
       " 'bread',\n",
       " 'liked',\n",
       " 'gluten',\n",
       " 'free',\n",
       " '.',\n",
       " '(',\n",
       " 'stay',\n",
       " 'away',\n",
       " 'ener-g',\n",
       " 'brand',\n",
       " ',',\n",
       " 'opinion',\n",
       " ')',\n",
       " '<',\n",
       " 'br',\n",
       " '/',\n",
       " '>',\n",
       " '<',\n",
       " 'br',\n",
       " '/',\n",
       " '>',\n",
       " 'gluten',\n",
       " 'free',\n",
       " '3',\n",
       " 'weeks',\n",
       " ',',\n",
       " 'seriously',\n",
       " 'craving',\n",
       " 'bread',\n",
       " 'products',\n",
       " '.',\n",
       " 'made',\n",
       " 'pancakes',\n",
       " 'morning',\n",
       " 'product',\n",
       " ',',\n",
       " 'wow',\n",
       " '!',\n",
       " '!',\n",
       " 'tasty',\n",
       " ',',\n",
       " 'light',\n",
       " ',',\n",
       " 'needed',\n",
       " 'thin',\n",
       " 'bit',\n",
       " 'spread',\n",
       " 'correctly',\n",
       " ',',\n",
       " ',',\n",
       " 'first',\n",
       " 'real',\n",
       " 'carb',\n",
       " 'product',\n",
       " '``',\n",
       " 'bread',\n",
       " 'like',\n",
       " \"''\",\n",
       " 'eaten',\n",
       " '3',\n",
       " 'weeks',\n",
       " '.',\n",
       " 'needless',\n",
       " 'say',\n",
       " ',',\n",
       " 'ate',\n",
       " 'many',\n",
       " ',',\n",
       " 'carb',\n",
       " 'headache',\n",
       " '!',\n",
       " ':',\n",
       " ')',\n",
       " '<',\n",
       " 'br',\n",
       " '/',\n",
       " '>',\n",
       " '<',\n",
       " 'br',\n",
       " '/',\n",
       " '>',\n",
       " 'seriously',\n",
       " 'though',\n",
       " ',',\n",
       " 'product',\n",
       " ',',\n",
       " 'used',\n",
       " 'moderation',\n",
       " ',',\n",
       " 'may',\n",
       " 'help',\n",
       " 'miss',\n",
       " 'gluten',\n",
       " 'products',\n",
       " 'quite',\n",
       " 'much',\n",
       " '.',\n",
       " 'look',\n",
       " 'forward',\n",
       " 'making',\n",
       " 'bisquits',\n",
       " 'recipes',\n",
       " 'box.',\n",
       " '<',\n",
       " 'br',\n",
       " '/',\n",
       " '>',\n",
       " 'way',\n",
       " 'go',\n",
       " 'product',\n",
       " ',',\n",
       " '-it',\n",
       " 'strikes',\n",
       " 'home',\n",
       " 'run',\n",
       " 'gluten',\n",
       " 'free',\n",
       " 'market',\n",
       " '.',\n",
       " 'cat',\n",
       " 'loves',\n",
       " 'almost',\n",
       " '``',\n",
       " 'fussie',\n",
       " 'cat',\n",
       " \"''\",\n",
       " 'flavors',\n",
       " ',',\n",
       " 'one',\n",
       " '.',\n",
       " \"'s\",\n",
       " 'picky',\n",
       " ',',\n",
       " \"'m\",\n",
       " 'pleased',\n",
       " 'find',\n",
       " 'something',\n",
       " \"'ll\",\n",
       " 'eat',\n",
       " 'reliably',\n",
       " '.',\n",
       " 'also',\n",
       " 'seems',\n",
       " 'good',\n",
       " 'quality',\n",
       " 'quite',\n",
       " 'reasonably',\n",
       " 'priced',\n",
       " '.',\n",
       " 'koeze',\n",
       " 'colossal',\n",
       " 'cashews',\n",
       " 'delicious',\n",
       " 'cashews',\n",
       " 'ever',\n",
       " 'tasted',\n",
       " 'huge.',\n",
       " '<',\n",
       " 'br',\n",
       " '/',\n",
       " '>',\n",
       " \"n't\",\n",
       " 'kidding',\n",
       " 'call',\n",
       " 'jumbo',\n",
       " '.',\n",
       " 'flavorful.',\n",
       " '<',\n",
       " 'br',\n",
       " '/',\n",
       " '>',\n",
       " 'order',\n",
       " 'wo',\n",
       " \"n't\",\n",
       " 'disappointed',\n",
       " '<',\n",
       " 'br',\n",
       " '/',\n",
       " '>',\n",
       " '(',\n",
       " 'expect',\n",
       " \"'ll\",\n",
       " 'wish',\n",
       " 'ordered',\n",
       " 'larger',\n",
       " 'size',\n",
       " ')',\n",
       " '.',\n",
       " 'english',\n",
       " 'parents',\n",
       " ',',\n",
       " 'grew',\n",
       " 'drinking',\n",
       " 'many',\n",
       " 'many',\n",
       " 'pots',\n",
       " 'tea',\n",
       " '.',\n",
       " 'used',\n",
       " 'hold',\n",
       " 'earl',\n",
       " 'grey',\n",
       " 'may',\n",
       " 'favourite',\n",
       " 'stumbled',\n",
       " 'across',\n",
       " 'lady',\n",
       " 'grey',\n",
       " '.',\n",
       " 'enjoy',\n",
       " 'earl',\n",
       " 'grey',\n",
       " 'love',\n",
       " 'tea',\n",
       " '.',\n",
       " 'aroma',\n",
       " 'magnificent',\n",
       " 'flavour',\n",
       " 'excellent',\n",
       " '.',\n",
       " 'smoother',\n",
       " 'earl',\n",
       " 'grey',\n",
       " 'even',\n",
       " 'brewed',\n",
       " 'lacks',\n",
       " 'acidity',\n",
       " 'overpowering',\n",
       " 'tannins',\n",
       " 'darker',\n",
       " 'blacks',\n",
       " 'produce',\n",
       " '.',\n",
       " 'nose',\n",
       " 'tea',\n",
       " 'greatly',\n",
       " 'enhances',\n",
       " 'drinking',\n",
       " 'experience',\n",
       " '.',\n",
       " \"n't\",\n",
       " 'miss',\n",
       " 'possible',\n",
       " 'favourite',\n",
       " '!',\n",
       " 'cute',\n",
       " 'look',\n",
       " ',',\n",
       " 'tasted',\n",
       " 'people',\n",
       " 'give',\n",
       " 'try',\n",
       " ',',\n",
       " 'overwhelming',\n",
       " 'response',\n",
       " 'yuk',\n",
       " '.',\n",
       " 'use',\n",
       " 'powdered',\n",
       " 'tea',\n",
       " 'powder',\n",
       " 'fruit',\n",
       " 'smoothies',\n",
       " '.',\n",
       " 'provides',\n",
       " 'health',\n",
       " 'benefits',\n",
       " 'green',\n",
       " 'tea',\n",
       " '.',\n",
       " 'love',\n",
       " 'product',\n",
       " 'use',\n",
       " 'plain',\n",
       " 'lemon',\n",
       " 'ginger',\n",
       " '.',\n",
       " 'starting',\n",
       " 'think',\n",
       " 'healthy',\n",
       " 'foods',\n",
       " ',',\n",
       " 'granola',\n",
       " ',',\n",
       " 'fiber',\n",
       " 'etc',\n",
       " ',',\n",
       " 'already',\n",
       " 'tried',\n",
       " '``',\n",
       " 'cascadian',\n",
       " 'farms',\n",
       " 'maple',\n",
       " 'brown',\n",
       " 'sugar',\n",
       " 'granola',\n",
       " 'cereal',\n",
       " ',',\n",
       " '17-ounce',\n",
       " 'boxes',\n",
       " '(',\n",
       " 'pack',\n",
       " '5',\n",
       " ')',\n",
       " \"''\",\n",
       " \"n't\",\n",
       " 'healthy',\n",
       " 'great',\n",
       " 'tasting',\n",
       " '!',\n",
       " '!',\n",
       " 'know',\n",
       " 'weight',\n",
       " 'watchers',\n",
       " 'points',\n",
       " ',',\n",
       " \"'ll\",\n",
       " 'know',\n",
       " \"'m\",\n",
       " 'talking',\n",
       " 'next',\n",
       " '.',\n",
       " 'one',\n",
       " 'weight',\n",
       " 'watcher',\n",
       " 'cards',\n",
       " 'years',\n",
       " 'back',\n",
       " '*',\n",
       " 'ahem',\n",
       " '*',\n",
       " 'calculated',\n",
       " '1',\n",
       " 'cup',\n",
       " '2',\n",
       " 'points',\n",
       " '.',\n",
       " '(',\n",
       " 'granola',\n",
       " 'cereal',\n",
       " '3/4',\n",
       " 'cup',\n",
       " '4',\n",
       " 'points',\n",
       " ')',\n",
       " '<',\n",
       " 'br',\n",
       " '/',\n",
       " '>',\n",
       " '<',\n",
       " 'br',\n",
       " '/',\n",
       " '>',\n",
       " \"n't\",\n",
       " 'think',\n",
       " 'could',\n",
       " 'make',\n",
       " 'good',\n",
       " 'cereal',\n",
       " 'low',\n",
       " 'points',\n",
       " '!',\n",
       " \"'s\",\n",
       " '9',\n",
       " 'grams',\n",
       " 'fiber',\n",
       " '!',\n",
       " 'love',\n",
       " '!',\n",
       " '<',\n",
       " 'br',\n",
       " '/',\n",
       " '>',\n",
       " '<',\n",
       " 'br',\n",
       " '/',\n",
       " '>',\n",
       " 'fyi',\n",
       " '-',\n",
       " 'paid',\n",
       " '$',\n",
       " '6.72',\n",
       " '(',\n",
       " 'subscribe',\n",
       " 'save',\n",
       " ')',\n",
       " 'box',\n",
       " '4.',\n",
       " 'like',\n",
       " 'post',\n",
       " 'paid',\n",
       " 'help',\n",
       " 'others',\n",
       " 'decision',\n",
       " 'time',\n",
       " 'purchase',\n",
       " 'since',\n",
       " 'prices',\n",
       " 'change',\n",
       " 'frequently',\n",
       " 'here.',\n",
       " '<',\n",
       " 'br',\n",
       " '/',\n",
       " '>',\n",
       " '<',\n",
       " 'br',\n",
       " '/',\n",
       " '>',\n",
       " 'happy',\n",
       " 'eating',\n",
       " '!',\n",
       " 'made',\n",
       " 'according',\n",
       " 'package',\n",
       " 'directions',\n",
       " ',',\n",
       " 'added',\n",
       " '1',\n",
       " 'cup',\n",
       " 'mini',\n",
       " 'chocolate',\n",
       " 'chips',\n",
       " ',',\n",
       " 'awesome',\n",
       " '!',\n",
       " 'took',\n",
       " 'longer',\n",
       " 'cook',\n",
       " 'box',\n",
       " 'says',\n",
       " ',',\n",
       " 'maybe',\n",
       " \"'s\",\n",
       " 'chocolate',\n",
       " 'chips',\n",
       " '.',\n",
       " 'either',\n",
       " 'way',\n",
       " ',',\n",
       " 'great',\n",
       " \"'ll\",\n",
       " 'definitely',\n",
       " 'make',\n",
       " '.',\n",
       " 'want',\n",
       " 'seasoning',\n",
       " 'put',\n",
       " 'everything',\n",
       " '?',\n",
       " 'spike',\n",
       " 'seasoning',\n",
       " 'absolutely',\n",
       " 'one',\n",
       " 'best',\n",
       " 'things',\n",
       " 'since',\n",
       " 'buttered',\n",
       " 'bread',\n",
       " ':',\n",
       " ')',\n",
       " ',',\n",
       " 'good',\n",
       " ':',\n",
       " ')',\n",
       " 'ordered',\n",
       " 'food',\n",
       " 'always',\n",
       " 'use',\n",
       " 'pay',\n",
       " '$',\n",
       " '52',\n",
       " 'large',\n",
       " 'bag',\n",
       " ',',\n",
       " \"n't\",\n",
       " 'realize',\n",
       " 'getting',\n",
       " 'small',\n",
       " '4.4',\n",
       " 'lb',\n",
       " 'bag',\n",
       " '.',\n",
       " 'deal',\n",
       " '.',\n",
       " 'higher',\n",
       " 'pay',\n",
       " 'pet',\n",
       " 'store',\n",
       " '!',\n",
       " 'tried',\n",
       " 'many',\n",
       " 'varieties',\n",
       " 'k',\n",
       " 'cups',\n",
       " 'green',\n",
       " 'mountain',\n",
       " 'best',\n",
       " '.',\n",
       " 'favorite',\n",
       " 'blend',\n",
       " 'breakfast',\n",
       " 'blend',\n",
       " '.',\n",
       " 'mild',\n",
       " 'coffee',\n",
       " ',',\n",
       " 'like',\n",
       " 'dunkin',\n",
       " 'donuts',\n",
       " ',',\n",
       " 'like',\n",
       " '.',\n",
       " 'starbucks',\n",
       " 'drinker',\n",
       " ',',\n",
       " 'try',\n",
       " 'bolder',\n",
       " 'blend',\n",
       " '.',\n",
       " 'based',\n",
       " 'reviews',\n",
       " ',',\n",
       " 'tried',\n",
       " 'kavli',\n",
       " 'products',\n",
       " '.',\n",
       " \"'re\",\n",
       " 'great',\n",
       " 'low-fat',\n",
       " 'snacks',\n",
       " '.',\n",
       " 'great',\n",
       " 'natural',\n",
       " 'peanut',\n",
       " 'butter',\n",
       " 'jelly',\n",
       " '2.',\n",
       " '<',\n",
       " 'br',\n",
       " '/',\n",
       " '>',\n",
       " '<',\n",
       " 'br',\n",
       " '/',\n",
       " '>',\n",
       " 'recommended',\n",
       " '.',\n",
       " \"'s\",\n",
       " 'hard',\n",
       " 'rate',\n",
       " 'tea',\n",
       " '.',\n",
       " \"'s\",\n",
       " 'good',\n",
       " 'tea',\n",
       " ',',\n",
       " 'tea',\n",
       " 'nonetheless',\n",
       " '.',\n",
       " 'however',\n",
       " ',',\n",
       " 'company',\n",
       " 'sells',\n",
       " 'particular',\n",
       " 'tea',\n",
       " 'nice',\n",
       " 'deal',\n",
       " '.',\n",
       " 'shipped',\n",
       " 'tea',\n",
       " 'quickly',\n",
       " '.',\n",
       " \"'ll\",\n",
       " 'likely',\n",
       " 'buy',\n",
       " 'need',\n",
       " 'arises',\n",
       " '.',\n",
       " 'big',\n",
       " 'fan',\n",
       " 'chocolate',\n",
       " 'cinnamon',\n",
       " ',',\n",
       " 'looking',\n",
       " 'stronger',\n",
       " 'cinnamon',\n",
       " 'flavor',\n",
       " 'stephen',\n",
       " \"'s\",\n",
       " 'gourmet',\n",
       " 'chocolate',\n",
       " 'cinnamon',\n",
       " '(',\n",
       " 'good',\n",
       " ',',\n",
       " 'subtle',\n",
       " ')',\n",
       " '.',\n",
       " '<',\n",
       " 'br',\n",
       " '/',\n",
       " '>',\n",
       " '<',\n",
       " 'br',\n",
       " '/',\n",
       " '>',\n",
       " 'one',\n",
       " 'way',\n",
       " 'strong',\n",
       " 'generic',\n",
       " 'spice',\n",
       " 'flavor',\n",
       " '.',\n",
       " 'almost',\n",
       " 'tastes',\n",
       " 'like',\n",
       " 'someone',\n",
       " 'brewed',\n",
       " 'really',\n",
       " 'strong',\n",
       " 'chai',\n",
       " ',',\n",
       " 'tossed',\n",
       " 'little',\n",
       " 'bit',\n",
       " 'chocolate',\n",
       " 'flavor',\n",
       " '.',\n",
       " 'spice',\n",
       " 'mix',\n",
       " 'overpowers',\n",
       " 'chocolate',\n",
       " ',',\n",
       " 'smell',\n",
       " 'taste',\n",
       " ',',\n",
       " 'hardly',\n",
       " 'taste',\n",
       " 'cinnamon',\n",
       " 'part',\n",
       " ',',\n",
       " 'mostly',\n",
       " 'bought',\n",
       " 'it.',\n",
       " '<',\n",
       " 'br',\n",
       " '/',\n",
       " '>',\n",
       " '<',\n",
       " 'br',\n",
       " ...]"
      ]
     },
     "execution_count": 106,
     "metadata": {},
     "output_type": "execute_result"
    }
   ],
   "source": [
    "filtered_sentence"
   ]
  },
  {
   "cell_type": "markdown",
   "metadata": {},
   "source": [
    "### Function to perform lemmatize and stem preprocessing steps on the data set."
   ]
  },
  {
   "cell_type": "code",
   "execution_count": 107,
   "metadata": {},
   "outputs": [],
   "source": [
    "import gensim\n",
    "from gensim.utils import simple_preprocess"
   ]
  },
  {
   "cell_type": "markdown",
   "metadata": {},
   "source": [
    "# Build the bigram and trigram models"
   ]
  },
  {
   "cell_type": "code",
   "execution_count": 108,
   "metadata": {},
   "outputs": [],
   "source": [
    "\n",
    "bigram = gensim.models.Phrases(filtered_sentence, min_count=5, threshold=100) # higher threshold fewer phrases.\n",
    "trigram = gensim.models.Phrases(bigram[filtered_sentence], threshold=100)# Faster way to get a sentence clubbed as a trigram/bigram\n",
    "bigram_mod = gensim.models.phrases.Phraser(bigram)\n",
    "trigram_mod = gensim.models.phrases.Phraser(trigram)"
   ]
  },
  {
   "cell_type": "code",
   "execution_count": 109,
   "metadata": {},
   "outputs": [],
   "source": [
    "# NLTK Stop words\n",
    "# import nltk\n",
    "# nltk.download('stopwords')\n",
    "from nltk.corpus import stopwords\n",
    "stop_words = stopwords.words('english')\n",
    "#stop_words.extend(['from', 'subject', 're', 'edu', 'use'])\n",
    "\n",
    "# Define functions for stopwords, bigrams, trigrams and lemmatization\n",
    "\n",
    "def remove_stopwords(texts):\n",
    "    return [[word for word in simple_preprocess(str(doc)) if word not in stop_words] for doc in texts]\n",
    "\n",
    "def make_bigrams(texts):\n",
    "    return [bigram_mod[doc] for doc in texts]\n",
    "\n",
    "def make_trigrams(texts):\n",
    "    return [trigram_mod[bigram_mod[doc]] for doc in texts]\n",
    "\n",
    "def lemmatization(texts, allowed_postags=['NOUN', 'ADJ', 'VERB', 'ADV']):\n",
    "    \"\"\"https://spacy.io/api/annotation\"\"\"\n",
    "    texts_out = []\n",
    "    for sent in texts:\n",
    "        doc = nlp(\" \".join(sent)) \n",
    "        texts_out.append([token.lemma_ for token in doc if token.pos_ in allowed_postags])\n",
    "    return texts_out"
   ]
  },
  {
   "cell_type": "code",
   "execution_count": 110,
   "metadata": {},
   "outputs": [],
   "source": [
    "import spacy"
   ]
  },
  {
   "cell_type": "markdown",
   "metadata": {},
   "source": [
    "Remove Stop Words"
   ]
  },
  {
   "cell_type": "code",
   "execution_count": 111,
   "metadata": {},
   "outputs": [],
   "source": [
    "\n",
    "data_words_nostops = remove_stopwords(filtered_sentence)"
   ]
  },
  {
   "cell_type": "code",
   "execution_count": 112,
   "metadata": {},
   "outputs": [],
   "source": [
    "#data_words_nostops"
   ]
  },
  {
   "cell_type": "markdown",
   "metadata": {},
   "source": [
    "Form Bigrams"
   ]
  },
  {
   "cell_type": "code",
   "execution_count": 113,
   "metadata": {},
   "outputs": [],
   "source": [
    "\n",
    "data_words_bigrams = make_bigrams(data_words_nostops)"
   ]
  },
  {
   "cell_type": "code",
   "execution_count": 114,
   "metadata": {},
   "outputs": [],
   "source": [
    "# Initialize spacy 'en' model, keeping only tagger component (for efficiency)\n",
    "nlp = spacy.load(\"en_core_web_sm\", disable=['parser', 'ner'])"
   ]
  },
  {
   "cell_type": "markdown",
   "metadata": {},
   "source": [
    "Do lemmatization keeping only noun, adj, vb, adv"
   ]
  },
  {
   "cell_type": "code",
   "execution_count": 115,
   "metadata": {},
   "outputs": [],
   "source": [
    "\n",
    "data_lemmatized = lemmatization(data_words_bigrams, allowed_postags=['NOUN', 'ADJ', 'VERB', 'ADV'])"
   ]
  },
  {
   "cell_type": "code",
   "execution_count": 116,
   "metadata": {},
   "outputs": [
    {
     "name": "stdout",
     "output_type": "stream",
     "text": [
      "[['coffee'], ['bold'], [], ['dark'], [], [], [], ['many'], ['type'], ['watery'], ['weak'], [], [], ['nice'], ['strong'], [], ['coffee'], [], ['love'], ['pretzel'], [], [], ['long'], ['expiration'], ['date'], [], ['make'], ['great'], ['kid'], ['snack'], ['pair'], [], [], [], ['star'], [], ['kind'], ['bitter'], [], ['recommend']]\n"
     ]
    }
   ],
   "source": [
    "print(data_lemmatized[:40])"
   ]
  },
  {
   "cell_type": "markdown",
   "metadata": {},
   "source": [
    "### Data Transformation: Corpus and Dictionary"
   ]
  },
  {
   "cell_type": "code",
   "execution_count": 117,
   "metadata": {},
   "outputs": [],
   "source": [
    "import gensim.corpora as corpora\n",
    "from gensim.corpora import Dictionary\n",
    "dictionary = Dictionary(texts)"
   ]
  },
  {
   "cell_type": "markdown",
   "metadata": {},
   "source": [
    "Create Dictionary"
   ]
  },
  {
   "cell_type": "code",
   "execution_count": 118,
   "metadata": {},
   "outputs": [
    {
     "data": {
      "text/plain": [
       "<gensim.corpora.dictionary.Dictionary at 0x1eb1d146108>"
      ]
     },
     "execution_count": 118,
     "metadata": {},
     "output_type": "execute_result"
    }
   ],
   "source": [
    "\n",
    "id2word = corpora.Dictionary(data_lemmatized)\n",
    "id2word"
   ]
  },
  {
   "cell_type": "markdown",
   "metadata": {},
   "source": [
    "Create Corpus"
   ]
  },
  {
   "cell_type": "code",
   "execution_count": 119,
   "metadata": {},
   "outputs": [],
   "source": [
    "\n",
    "texts = data_lemmatized"
   ]
  },
  {
   "cell_type": "markdown",
   "metadata": {},
   "source": [
    "Term Document Frequency"
   ]
  },
  {
   "cell_type": "code",
   "execution_count": 120,
   "metadata": {},
   "outputs": [],
   "source": [
    "\n",
    "corpus = [id2word.doc2bow(text) for text in texts]"
   ]
  },
  {
   "cell_type": "code",
   "execution_count": 121,
   "metadata": {},
   "outputs": [
    {
     "name": "stdout",
     "output_type": "stream",
     "text": [
      "[[(0, 1)], [(1, 1)], [], [(2, 1)], [], [], [], [(3, 1)], [(4, 1)], [(5, 1)], [(6, 1)], [], [], [(7, 1)], [(8, 1)], [], [(0, 1)], [], [(9, 1)], [(10, 1)], [], [], [(11, 1)], [(12, 1)], [(13, 1)], [], [(14, 1)], [(15, 1)], [(16, 1)], [(17, 1)], [(18, 1)], [], [], [], [(19, 1)], [], [(20, 1)], [(21, 1)], [], [(22, 1)], [(23, 1)], [(24, 1)], [], [(23, 1)], [(25, 1)], [], [], [(26, 1)], [(27, 1)], [(15, 1)]]\n"
     ]
    },
    {
     "data": {
      "text/plain": [
       "list"
      ]
     },
     "execution_count": 121,
     "metadata": {},
     "output_type": "execute_result"
    }
   ],
   "source": [
    "# View\n",
    "print(corpus[:50])\n",
    "type(corpus)"
   ]
  },
  {
   "cell_type": "markdown",
   "metadata": {},
   "source": [
    "##### Gensim creates a unique id for each word in the document. \n",
    "The produced corpus shown above is a mapping of (word_id, word_frequency)."
   ]
  },
  {
   "cell_type": "markdown",
   "metadata": {},
   "source": [
    "### Build Latent Dirichlet Allocation (LDA) model"
   ]
  },
  {
   "cell_type": "code",
   "execution_count": 122,
   "metadata": {},
   "outputs": [],
   "source": [
    "\n",
    "lda_model = gensim.models.LdaMulticore(corpus=corpus,\n",
    "                                       id2word=id2word,\n",
    "                                       num_topics=4, \n",
    "                                       )"
   ]
  },
  {
   "cell_type": "code",
   "execution_count": 123,
   "metadata": {},
   "outputs": [
    {
     "name": "stdout",
     "output_type": "stream",
     "text": [
      "[(0,\n",
      "  '0.043*\"love\" + 0.042*\"use\" + 0.041*\"try\" + 0.034*\"would\" + 0.025*\"eat\" + '\n",
      "  '0.023*\"really\" + 0.021*\"order\" + 0.020*\"think\" + 0.020*\"price\" + '\n",
      "  '0.019*\"bag\"'),\n",
      " (1,\n",
      "  '0.066*\"good\" + 0.045*\"make\" + 0.033*\"find\" + 0.027*\"food\" + 0.026*\"go\" + '\n",
      "  '0.025*\"time\" + 0.024*\"tea\" + 0.022*\"much\" + 0.021*\"give\" + 0.016*\"come\"'),\n",
      " (2,\n",
      "  '0.058*\"taste\" + 0.049*\"coffee\" + 0.047*\"product\" + 0.021*\"also\" + '\n",
      "  '0.020*\"little\" + 0.019*\"say\" + 0.018*\"get\" + 0.017*\"even\" + 0.016*\"add\" + '\n",
      "  '0.016*\"flavor\"'),\n",
      " (3,\n",
      "  '0.038*\"great\" + 0.036*\"buy\" + 0.032*\"dog\" + 0.014*\"look\" + 0.012*\"year\" + '\n",
      "  '0.012*\"may\" + 0.012*\"work\" + 0.012*\"water\" + 0.011*\"sweet\" + 0.011*\"thing\"')]\n"
     ]
    }
   ],
   "source": [
    "from pprint import pprint# Print the Keyword in the 10 topics\n",
    "lda_topic= pprint(lda_model.print_topics())\n",
    "doc_lda = lda_model[corpus]"
   ]
  },
  {
   "cell_type": "markdown",
   "metadata": {},
   "source": [
    "### LDA -  Interactive Visualization"
   ]
  },
  {
   "cell_type": "code",
   "execution_count": 124,
   "metadata": {},
   "outputs": [
    {
     "data": {
      "text/html": [
       "\n",
       "<link rel=\"stylesheet\" type=\"text/css\" href=\"https://cdn.rawgit.com/bmabey/pyLDAvis/files/ldavis.v1.0.0.css\">\n",
       "\n",
       "\n",
       "<div id=\"ldavis_el250821097630691284023157413\"></div>\n",
       "<script type=\"text/javascript\">\n",
       "\n",
       "var ldavis_el250821097630691284023157413_data = {\"mdsDat\": {\"x\": [0.41142293529089385, -0.13918780954179905, -0.10778362742178928, -0.16445149832730566], \"y\": [0.02376246869593642, -0.27203162804934483, -0.12020348924256088, 0.36847264859596934], \"topics\": [1, 2, 3, 4], \"cluster\": [1, 1, 1, 1], \"Freq\": [24.968778610229492, 24.728015899658203, 24.823673248291016, 25.479530334472656]}, \"tinfo\": {\"Term\": [\"good\", \"taste\", \"coffee\", \"product\", \"make\", \"love\", \"use\", \"try\", \"great\", \"buy\", \"would\", \"find\", \"dog\", \"food\", \"go\", \"eat\", \"time\", \"tea\", \"really\", \"much\", \"also\", \"give\", \"order\", \"think\", \"price\", \"little\", \"bag\", \"say\", \"get\", \"chip\", \"love\", \"use\", \"try\", \"would\", \"eat\", \"really\", \"order\", \"think\", \"price\", \"bag\", \"chip\", \"well\", \"could\", \"recommend\", \"know\", \"mix\", \"free\", \"keep\", \"favorite\", \"pack\", \"easy\", \"oil\", \"lot\", \"salt\", \"seem\", \"strong\", \"high\", \"treat\", \"organic\", \"always\", \"good\", \"make\", \"find\", \"food\", \"go\", \"time\", \"tea\", \"much\", \"give\", \"come\", \"first\", \"sugar\", \"want\", \"brand\", \"day\", \"purchase\", \"take\", \"bit\", \"need\", \"package\", \"put\", \"old\", \"perfect\", \"size\", \"hard\", \"however\", \"far\", \"month\", \"potato\", \"minute\", \"taste\", \"coffee\", \"product\", \"also\", \"little\", \"say\", \"get\", \"even\", \"add\", \"flavor\", \"drink\", \"chocolate\", \"still\", \"small\", \"nice\", \"low\", \"never\", \"review\", \"regular\", \"back\", \"problem\", \"cup\", \"snack\", \"enjoy\", \"ever\", \"feel\", \"blend\", \"like\", \"milk\", \"big\", \"great\", \"buy\", \"dog\", \"look\", \"year\", \"may\", \"work\", \"water\", \"sweet\", \"thing\", \"way\", \"see\", \"ingredient\", \"hot\", \"long\", \"bad\", \"many\", \"less\", \"ca\", \"stuff\", \"healthy\", \"local\", \"pretty\", \"actually\", \"natural\", \"start\", \"happy\", \"almost\", \"full\", \"worth\"], \"Freq\": [10359.0, 9102.0, 7633.0, 7317.0, 6946.0, 6710.0, 6593.0, 6471.0, 6166.0, 5842.0, 5321.0, 5205.0, 5106.0, 4243.0, 3978.0, 3954.0, 3829.0, 3738.0, 3635.0, 3437.0, 3307.0, 3269.0, 3262.0, 3196.0, 3128.0, 3064.0, 3028.0, 2954.0, 2779.0, 2713.0, 6709.3544921875, 6592.64404296875, 6470.560546875, 5320.576171875, 3953.767333984375, 3634.371337890625, 3261.55126953125, 3195.99072265625, 3127.452880859375, 3027.362060546875, 2713.219970703125, 2705.752685546875, 2270.113525390625, 2230.84228515625, 2119.96533203125, 2079.75634765625, 1956.64013671875, 1866.99658203125, 1856.140869140625, 1813.7232666015625, 1579.3541259765625, 1521.34765625, 1520.614013671875, 1447.852294921875, 1416.69677734375, 1406.3192138671875, 1342.929931640625, 1321.3148193359375, 1274.2496337890625, 1252.406494140625, 10359.2431640625, 6946.1728515625, 5204.56591796875, 4243.22216796875, 3977.974853515625, 3829.10888671875, 3738.222900390625, 3437.13720703125, 3268.288818359375, 2447.513916015625, 2400.763671875, 2392.06103515625, 2250.714599609375, 2230.61279296875, 2191.218505859375, 2151.7626953125, 2128.4091796875, 1901.0390625, 1724.940673828125, 1406.0850830078125, 1385.7928466796875, 1350.010498046875, 1334.27783203125, 1308.3939208984375, 1273.671630859375, 1146.6951904296875, 1054.029296875, 1008.0613403320312, 870.420654296875, 861.501953125, 9101.650390625, 7632.93115234375, 7317.080078125, 3307.081298828125, 3063.4130859375, 2953.9013671875, 2778.720703125, 2673.212646484375, 2524.208984375, 2514.548095703125, 2397.17578125, 2153.46826171875, 1807.0943603515625, 1784.8114013671875, 1479.64501953125, 1455.8990478515625, 1445.6741943359375, 1439.2305908203125, 1363.1734619140625, 1333.8450927734375, 1308.0955810546875, 1294.85400390625, 1291.32666015625, 1281.943115234375, 1243.92236328125, 1230.4512939453125, 1229.903564453125, 1202.705078125, 1186.9263916015625, 1174.5556640625, 6165.6923828125, 5842.03173828125, 5105.5361328125, 2203.402587890625, 2004.9266357421875, 1901.83154296875, 1891.6396484375, 1874.5650634765625, 1783.0771484375, 1739.5206298828125, 1735.40625, 1656.1119384765625, 1556.0748291015625, 1453.997802734375, 1450.093994140625, 1401.7886962890625, 1382.5032958984375, 1364.3216552734375, 1326.2412109375, 1229.98193359375, 1177.8836669921875, 1003.75, 1001.25, 965.0521850585938, 956.9359741210938, 940.258544921875, 922.9609985351562, 908.7999267578125, 861.3301391601562, 854.1751098632812], \"Total\": [10359.0, 9102.0, 7633.0, 7317.0, 6946.0, 6710.0, 6593.0, 6471.0, 6166.0, 5842.0, 5321.0, 5205.0, 5106.0, 4243.0, 3978.0, 3954.0, 3829.0, 3738.0, 3635.0, 3437.0, 3307.0, 3269.0, 3262.0, 3196.0, 3128.0, 3064.0, 3028.0, 2954.0, 2779.0, 2713.0, 6710.1083984375, 6593.39794921875, 6471.31494140625, 5321.330078125, 3954.52099609375, 3635.12548828125, 3262.30517578125, 3196.744384765625, 3128.20703125, 3028.115966796875, 2713.974365234375, 2706.5068359375, 2270.86767578125, 2231.59619140625, 2120.72509765625, 2080.51025390625, 1957.40625, 1867.750732421875, 1856.8948974609375, 1814.477294921875, 1580.1083984375, 1522.101806640625, 1521.3680419921875, 1448.6064453125, 1417.4508056640625, 1407.073486328125, 1343.6839599609375, 1322.06884765625, 1275.003662109375, 1253.160400390625, 10359.9951171875, 6946.923828125, 5205.31689453125, 4243.97314453125, 3978.726318359375, 3829.85986328125, 3738.97412109375, 3437.88818359375, 3269.039794921875, 2448.264892578125, 2401.5146484375, 2392.812255859375, 2251.46630859375, 2231.3642578125, 2191.9697265625, 2152.513916015625, 2129.16015625, 1901.790283203125, 1725.6917724609375, 1406.83642578125, 1386.5440673828125, 1350.76220703125, 1335.0289306640625, 1309.1448974609375, 1274.4228515625, 1147.446044921875, 1054.7802734375, 1008.812255859375, 871.171630859375, 862.2529296875, 9102.3984375, 7633.68017578125, 7317.8291015625, 3307.829345703125, 3064.1611328125, 2954.6494140625, 2779.46875, 2673.9609375, 2524.95703125, 2515.29638671875, 2397.923828125, 2154.216552734375, 1807.842529296875, 1785.5596923828125, 1480.393310546875, 1456.6475830078125, 1446.4222412109375, 1439.978759765625, 1363.9217529296875, 1334.59326171875, 1308.8438720703125, 1295.6021728515625, 1292.0748291015625, 1282.691162109375, 1244.67041015625, 1231.199462890625, 1230.6517333984375, 1203.453125, 1187.6746826171875, 1175.3038330078125, 6166.45361328125, 5842.79248046875, 5106.296875, 2204.16357421875, 2005.687744140625, 1902.59228515625, 1892.4005126953125, 1875.3258056640625, 1783.83837890625, 1740.28125, 1736.1668701171875, 1656.872802734375, 1556.83544921875, 1454.7587890625, 1450.8548583984375, 1402.5494384765625, 1383.263916015625, 1365.08251953125, 1327.001953125, 1230.7425537109375, 1178.6446533203125, 1004.5106811523438, 1002.0106811523438, 965.8128662109375, 957.6966552734375, 941.0191040039062, 923.7216186523438, 909.5606689453125, 862.091064453125, 854.9358520507812], \"Category\": [\"Default\", \"Default\", \"Default\", \"Default\", \"Default\", \"Default\", \"Default\", \"Default\", \"Default\", \"Default\", \"Default\", \"Default\", \"Default\", \"Default\", \"Default\", \"Default\", \"Default\", \"Default\", \"Default\", \"Default\", \"Default\", \"Default\", \"Default\", \"Default\", \"Default\", \"Default\", \"Default\", \"Default\", \"Default\", \"Default\", \"Topic1\", \"Topic1\", \"Topic1\", \"Topic1\", \"Topic1\", \"Topic1\", \"Topic1\", \"Topic1\", \"Topic1\", \"Topic1\", \"Topic1\", \"Topic1\", \"Topic1\", \"Topic1\", \"Topic1\", \"Topic1\", \"Topic1\", \"Topic1\", \"Topic1\", \"Topic1\", \"Topic1\", \"Topic1\", \"Topic1\", \"Topic1\", \"Topic1\", \"Topic1\", \"Topic1\", \"Topic1\", \"Topic1\", \"Topic1\", \"Topic2\", \"Topic2\", \"Topic2\", \"Topic2\", \"Topic2\", \"Topic2\", \"Topic2\", \"Topic2\", \"Topic2\", \"Topic2\", \"Topic2\", \"Topic2\", \"Topic2\", \"Topic2\", \"Topic2\", \"Topic2\", \"Topic2\", \"Topic2\", \"Topic2\", \"Topic2\", \"Topic2\", \"Topic2\", \"Topic2\", \"Topic2\", \"Topic2\", \"Topic2\", \"Topic2\", \"Topic2\", \"Topic2\", \"Topic2\", \"Topic3\", \"Topic3\", \"Topic3\", \"Topic3\", \"Topic3\", \"Topic3\", \"Topic3\", \"Topic3\", \"Topic3\", \"Topic3\", \"Topic3\", \"Topic3\", \"Topic3\", \"Topic3\", \"Topic3\", \"Topic3\", \"Topic3\", \"Topic3\", \"Topic3\", \"Topic3\", \"Topic3\", \"Topic3\", \"Topic3\", \"Topic3\", \"Topic3\", \"Topic3\", \"Topic3\", \"Topic3\", \"Topic3\", \"Topic3\", \"Topic4\", \"Topic4\", \"Topic4\", \"Topic4\", \"Topic4\", \"Topic4\", \"Topic4\", \"Topic4\", \"Topic4\", \"Topic4\", \"Topic4\", \"Topic4\", \"Topic4\", \"Topic4\", \"Topic4\", \"Topic4\", \"Topic4\", \"Topic4\", \"Topic4\", \"Topic4\", \"Topic4\", \"Topic4\", \"Topic4\", \"Topic4\", \"Topic4\", \"Topic4\", \"Topic4\", \"Topic4\", \"Topic4\", \"Topic4\"], \"logprob\": [30.0, 29.0, 28.0, 27.0, 26.0, 25.0, 24.0, 23.0, 22.0, 21.0, 20.0, 19.0, 18.0, 17.0, 16.0, 15.0, 14.0, 13.0, 12.0, 11.0, 10.0, 9.0, 8.0, 7.0, 6.0, 5.0, 4.0, 3.0, 2.0, 1.0, -3.1559998989105225, -3.1735999584198, -3.1923000812530518, -3.3879001140594482, -3.6849000453948975, -3.7690999507904053, -3.8773000240325928, -3.897599935531616, -3.919300079345703, -3.9518001079559326, -4.061399936676025, -4.0640997886657715, -4.239699840545654, -4.2571001052856445, -4.30810022354126, -4.327300071716309, -4.388299942016602, -4.435200214385986, -4.440999984741211, -4.464099884033203, -4.602499961853027, -4.639900207519531, -4.640399932861328, -4.6894001960754395, -4.71120023727417, -4.718599796295166, -4.764699935913086, -4.780900001525879, -4.817200183868408, -4.834499835968018, -2.7119998931884766, -3.111599922180176, -3.4003000259399414, -3.6045000553131104, -3.669100046157837, -3.707200050354004, -3.7311999797821045, -3.815200090408325, -3.865600109100342, -4.154799938201904, -4.174099922180176, -4.177700042724609, -4.23859977722168, -4.247600078582764, -4.265399932861328, -4.2835001945495605, -4.29449987411499, -4.407400131225586, -4.5046000480651855, -4.709000110626221, -4.723599910736084, -4.74970006942749, -4.76140022277832, -4.781000137329102, -4.8078999519348145, -4.913000106811523, -4.997200012207031, -5.041800022125244, -5.188600063323975, -5.19890022277832, -2.8452000617980957, -3.021199941635132, -3.063499927520752, -3.857599973678589, -3.9342000484466553, -3.970599889755249, -4.031700134277344, -4.070400238037109, -4.127799987792969, -4.1315999031066895, -4.1793999671936035, -4.286600112915039, -4.461999893188477, -4.474400043487549, -4.661900043487549, -4.678100109100342, -4.685100078582764, -4.689599990844727, -4.743899822235107, -4.765600204467773, -4.785099983215332, -4.795300006866455, -4.797999858856201, -4.805300235748291, -4.835400104522705, -4.84630012512207, -4.846799850463867, -4.869100093841553, -4.882299900054932, -4.8927998542785645, -3.2607998847961426, -3.31469988822937, -3.449399948120117, -4.28980016708374, -4.384200096130371, -4.436999797821045, -4.442299842834473, -4.451399803161621, -4.501399993896484, -4.526199817657471, -4.528500080108643, -4.575300216674805, -4.637599945068359, -4.70550012588501, -4.708099842071533, -4.742000102996826, -4.755899906158447, -4.769100189208984, -4.797399997711182, -4.872799873352051, -4.916100025177002, -5.076000213623047, -5.078499794006348, -5.115300178527832, -5.123799800872803, -5.14139986038208, -5.159900188446045, -5.1753997802734375, -5.229100227355957, -5.237400054931641], \"loglift\": [30.0, 29.0, 28.0, 27.0, 26.0, 25.0, 24.0, 23.0, 22.0, 21.0, 20.0, 19.0, 18.0, 17.0, 16.0, 15.0, 14.0, 13.0, 12.0, 11.0, 10.0, 9.0, 8.0, 7.0, 6.0, 5.0, 4.0, 3.0, 2.0, 1.0, 1.3874000310897827, 1.3874000310897827, 1.3874000310897827, 1.3874000310897827, 1.3874000310897827, 1.3873000144958496, 1.3873000144958496, 1.3873000144958496, 1.3873000144958496, 1.3873000144958496, 1.3873000144958496, 1.3873000144958496, 1.3871999979019165, 1.3871999979019165, 1.3871999979019165, 1.3871999979019165, 1.3871999979019165, 1.3870999813079834, 1.3870999813079834, 1.3870999813079834, 1.3870999813079834, 1.3869999647140503, 1.3869999647140503, 1.3869999647140503, 1.3869999647140503, 1.3869999647140503, 1.3869999647140503, 1.3869999647140503, 1.3869999647140503, 1.3868999481201172, 1.3971999883651733, 1.3970999717712402, 1.3970999717712402, 1.3970999717712402, 1.3969999551773071, 1.3969999551773071, 1.3969999551773071, 1.3969999551773071, 1.3969999551773071, 1.3969000577926636, 1.3969000577926636, 1.3969000577926636, 1.3969000577926636, 1.3969000577926636, 1.3969000577926636, 1.3969000577926636, 1.3969000577926636, 1.3968000411987305, 1.3968000411987305, 1.3967000246047974, 1.3967000246047974, 1.3967000246047974, 1.3967000246047974, 1.3967000246047974, 1.3966000080108643, 1.3966000080108643, 1.3964999914169312, 1.3964999914169312, 1.396399974822998, 1.396399974822998, 1.3933000564575195, 1.3933000564575195, 1.3933000564575195, 1.3931000232696533, 1.3931000232696533, 1.3931000232696533, 1.3931000232696533, 1.3931000232696533, 1.3931000232696533, 1.3931000232696533, 1.3931000232696533, 1.3930000066757202, 1.3930000066757202, 1.3930000066757202, 1.392899990081787, 1.392899990081787, 1.392899990081787, 1.392899990081787, 1.392799973487854, 1.392799973487854, 1.392799973487854, 1.392799973487854, 1.392799973487854, 1.392799973487854, 1.392799973487854, 1.392799973487854, 1.392799973487854, 1.392799973487854, 1.392699956893921, 1.392699956893921, 1.3672000169754028, 1.3672000169754028, 1.3671000003814697, 1.3668999671936035, 1.3668999671936035, 1.3668999671936035, 1.3668999671936035, 1.3668999671936035, 1.3668999671936035, 1.3668999671936035, 1.3668999671936035, 1.3667999505996704, 1.3667999505996704, 1.3667999505996704, 1.3667999505996704, 1.3667999505996704, 1.3667000532150269, 1.3667000532150269, 1.3667000532150269, 1.3667000532150269, 1.3666000366210938, 1.3665000200271606, 1.3665000200271606, 1.3665000200271606, 1.3665000200271606, 1.3665000200271606, 1.3665000200271606, 1.3665000200271606, 1.3664000034332275, 1.3664000034332275]}, \"token.table\": {\"Topic\": [4, 3, 4, 3, 1, 3, 4, 1, 3, 2, 3, 2, 4, 4, 1, 3, 3, 2, 1, 3, 2, 4, 3, 1, 1, 3, 3, 3, 2, 1, 3, 2, 2, 3, 2, 1, 4, 3, 2, 2, 2, 4, 4, 2, 4, 1, 4, 2, 4, 1, 1, 4, 3, 3, 4, 4, 4, 1, 1, 3, 2, 4, 4, 3, 2, 1, 2, 2, 4, 2, 3, 3, 1, 2, 1, 1, 1, 2, 2, 2, 4, 1, 3, 3, 2, 2, 1, 1, 3, 3, 1, 3, 4, 1, 2, 3, 3, 4, 3, 1, 4, 2, 4, 2, 3, 2, 4, 1, 2, 1, 1, 1, 2, 4, 4, 1, 4, 4, 1, 4], \"Freq\": [0.9991583824157715, 0.9996209740638733, 0.9993835687637329, 0.9997493028640747, 0.9990740418434143, 0.9995554685592651, 0.9996082782745361, 0.9996314644813538, 0.9997414946556091, 0.999584436416626, 0.9994704127311707, 0.9998367428779602, 0.9998643398284912, 0.9992449283599854, 0.9996410012245178, 0.9994352459907532, 0.9999108910560608, 0.9998918175697327, 0.9996179342269897, 0.9995352029800415, 0.999557614326477, 0.999941885471344, 0.9996147155761719, 0.9992985129356384, 0.9998682737350464, 0.9994611740112305, 0.9996406435966492, 0.9994613528251648, 0.9992602467536926, 0.999518096446991, 0.9990257620811462, 0.9999391436576843, 0.9997857213020325, 0.999882161617279, 0.9997707009315491, 0.9997924566268921, 0.9987344145774841, 0.9998313784599304, 0.9996819496154785, 0.999817430973053, 0.9999039173126221, 0.9999264478683472, 0.9992188215255737, 0.9996681809425354, 0.999453067779541, 0.9994909763336182, 0.9994783997535706, 0.9996112585067749, 0.9994633793830872, 0.9995980262756348, 0.9996581077575684, 0.9992070198059082, 0.9996234774589539, 0.9996210336685181, 0.9994916319847107, 0.9994108080863953, 0.9994720816612244, 0.9997580647468567, 0.9998348355293274, 0.9995554089546204, 0.9998670220375061, 0.999809205532074, 0.9996886849403381, 0.9994319081306458, 0.9997066855430603, 0.9997547268867493, 0.999194860458374, 0.9997416734695435, 0.9992725849151611, 0.9995991587638855, 0.9997080564498901, 0.9997343420982361, 0.9992761015892029, 0.9994357228279114, 0.9999064803123474, 0.9992128014564514, 0.9997369647026062, 0.9994054436683655, 0.9992292523384094, 0.9986550807952881, 0.9989913702011108, 0.9996141195297241, 0.9993552565574646, 0.999886691570282, 0.9997612237930298, 0.9996076226234436, 0.9996904134750366, 0.9997328519821167, 0.9993242025375366, 0.9993202686309814, 0.9995813369750977, 0.9997801780700684, 0.9994732141494751, 0.9996819496154785, 0.9991254806518555, 0.9996865391731262, 0.9991681575775146, 0.9989170432090759, 0.9995339512825012, 0.999237060546875, 0.9993966817855835, 0.9996605515480042, 0.999530017375946, 0.9994550943374634, 0.9999562501907349, 0.9997394680976868, 0.9998384118080139, 0.9997671246528625, 0.9997754693031311, 0.9991915225982666, 0.9999513030052185, 0.9999396204948425, 0.9997928738594055, 0.9998262524604797, 0.9993278980255127, 0.9998127222061157, 0.9997883439064026, 0.9989053606987, 0.9999379515647888, 0.9996570944786072], \"Term\": [\"actually\", \"add\", \"almost\", \"also\", \"always\", \"back\", \"bad\", \"bag\", \"big\", \"bit\", \"blend\", \"brand\", \"buy\", \"ca\", \"chip\", \"chocolate\", \"coffee\", \"come\", \"could\", \"cup\", \"day\", \"dog\", \"drink\", \"easy\", \"eat\", \"enjoy\", \"even\", \"ever\", \"far\", \"favorite\", \"feel\", \"find\", \"first\", \"flavor\", \"food\", \"free\", \"full\", \"get\", \"give\", \"go\", \"good\", \"great\", \"happy\", \"hard\", \"healthy\", \"high\", \"hot\", \"however\", \"ingredient\", \"keep\", \"know\", \"less\", \"like\", \"little\", \"local\", \"long\", \"look\", \"lot\", \"love\", \"low\", \"make\", \"many\", \"may\", \"milk\", \"minute\", \"mix\", \"month\", \"much\", \"natural\", \"need\", \"never\", \"nice\", \"oil\", \"old\", \"order\", \"organic\", \"pack\", \"package\", \"perfect\", \"potato\", \"pretty\", \"price\", \"problem\", \"product\", \"purchase\", \"put\", \"really\", \"recommend\", \"regular\", \"review\", \"salt\", \"say\", \"see\", \"seem\", \"size\", \"small\", \"snack\", \"start\", \"still\", \"strong\", \"stuff\", \"sugar\", \"sweet\", \"take\", \"taste\", \"tea\", \"thing\", \"think\", \"time\", \"treat\", \"try\", \"use\", \"want\", \"water\", \"way\", \"well\", \"work\", \"worth\", \"would\", \"year\"]}, \"R\": 30, \"lambda.step\": 0.01, \"plot.opts\": {\"xlab\": \"PC1\", \"ylab\": \"PC2\"}, \"topic.order\": [1, 2, 3, 4]};\n",
       "\n",
       "function LDAvis_load_lib(url, callback){\n",
       "  var s = document.createElement('script');\n",
       "  s.src = url;\n",
       "  s.async = true;\n",
       "  s.onreadystatechange = s.onload = callback;\n",
       "  s.onerror = function(){console.warn(\"failed to load library \" + url);};\n",
       "  document.getElementsByTagName(\"head\")[0].appendChild(s);\n",
       "}\n",
       "\n",
       "if(typeof(LDAvis) !== \"undefined\"){\n",
       "   // already loaded: just create the visualization\n",
       "   !function(LDAvis){\n",
       "       new LDAvis(\"#\" + \"ldavis_el250821097630691284023157413\", ldavis_el250821097630691284023157413_data);\n",
       "   }(LDAvis);\n",
       "}else if(typeof define === \"function\" && define.amd){\n",
       "   // require.js is available: use it to load d3/LDAvis\n",
       "   require.config({paths: {d3: \"https://cdnjs.cloudflare.com/ajax/libs/d3/3.5.5/d3.min\"}});\n",
       "   require([\"d3\"], function(d3){\n",
       "      window.d3 = d3;\n",
       "      LDAvis_load_lib(\"https://cdn.rawgit.com/bmabey/pyLDAvis/files/ldavis.v1.0.0.js\", function(){\n",
       "        new LDAvis(\"#\" + \"ldavis_el250821097630691284023157413\", ldavis_el250821097630691284023157413_data);\n",
       "      });\n",
       "    });\n",
       "}else{\n",
       "    // require.js not available: dynamically load d3 & LDAvis\n",
       "    LDAvis_load_lib(\"https://cdnjs.cloudflare.com/ajax/libs/d3/3.5.5/d3.min.js\", function(){\n",
       "         LDAvis_load_lib(\"https://cdn.rawgit.com/bmabey/pyLDAvis/files/ldavis.v1.0.0.js\", function(){\n",
       "                 new LDAvis(\"#\" + \"ldavis_el250821097630691284023157413\", ldavis_el250821097630691284023157413_data);\n",
       "            })\n",
       "         });\n",
       "}\n",
       "</script>"
      ],
      "text/plain": [
       "<IPython.core.display.HTML object>"
      ]
     },
     "execution_count": 124,
     "metadata": {},
     "output_type": "execute_result"
    }
   ],
   "source": [
    "\n",
    "import pyLDAvis.gensim\n",
    "lda_display = pyLDAvis.gensim.prepare(lda_model, corpus, id2word, sort_topics=False)\n",
    "pyLDAvis.display(lda_display)"
   ]
  },
  {
   "cell_type": "markdown",
   "metadata": {},
   "source": [
    "### Compute Model Perplexity and Coherence Score"
   ]
  },
  {
   "cell_type": "code",
   "execution_count": 125,
   "metadata": {},
   "outputs": [
    {
     "name": "stdout",
     "output_type": "stream",
     "text": [
      "\n",
      "Coherence Score:  0.8446432991376711\n"
     ]
    }
   ],
   "source": [
    "from gensim.models import CoherenceModel# Compute Coherence Score\n",
    "\n",
    "coherence_model_lda = CoherenceModel(model=lda_model, texts=data_lemmatized, dictionary=id2word, coherence='c_v')\n",
    "coherence_lda = coherence_model_lda.get_coherence()\n",
    "\n",
    "print('\\nCoherence Score: ', coherence_lda)"
   ]
  },
  {
   "cell_type": "code",
   "execution_count": 126,
   "metadata": {
    "scrolled": true
   },
   "outputs": [
    {
     "name": "stdout",
     "output_type": "stream",
     "text": [
      "\n",
      "Perplexity:  -7.042816533964844\n"
     ]
    }
   ],
   "source": [
    "print('\\nPerplexity: ', lda_model.log_perplexity(corpus))  # a measure of how good the model is. lower the better."
   ]
  },
  {
   "cell_type": "markdown",
   "metadata": {},
   "source": [
    "### Hierarchical Dirichlet Process"
   ]
  },
  {
   "cell_type": "code",
   "execution_count": 52,
   "metadata": {},
   "outputs": [],
   "source": [
    "from gensim.models import CoherenceModel, LdaModel, LsiModel, HdpModel\n",
    "hdpmodel = HdpModel(corpus=corpus, id2word=id2word)"
   ]
  },
  {
   "cell_type": "code",
   "execution_count": 54,
   "metadata": {},
   "outputs": [
    {
     "data": {
      "text/plain": [
       "[(0,\n",
       "  '0.004*good + 0.004*taste + 0.003*coffee + 0.003*love + 0.003*product + 0.003*use + 0.003*make + 0.003*great + 0.003*try + 0.002*buy + 0.002*would + 0.002*dog + 0.002*find + 0.002*go + 0.002*food + 0.002*eat + 0.002*tea + 0.002*time + 0.002*much + 0.002*really'),\n",
       " (1,\n",
       "  '0.005*good + 0.004*taste + 0.003*coffee + 0.003*product + 0.003*make + 0.003*love + 0.003*use + 0.003*buy + 0.003*great + 0.003*try + 0.002*would + 0.002*find + 0.002*dog + 0.002*eat + 0.002*food + 0.002*tea + 0.002*time + 0.002*really + 0.002*go + 0.001*also'),\n",
       " (2,\n",
       "  '0.005*good + 0.004*taste + 0.003*coffee + 0.003*product + 0.003*love + 0.003*make + 0.003*use + 0.003*try + 0.003*great + 0.003*would + 0.002*buy + 0.002*dog + 0.002*find + 0.002*food + 0.002*tea + 0.002*eat + 0.002*bag + 0.002*go + 0.002*time + 0.002*much'),\n",
       " (3,\n",
       "  '0.005*good + 0.004*taste + 0.003*love + 0.003*coffee + 0.003*product + 0.003*make + 0.003*great + 0.003*try + 0.003*use + 0.003*buy + 0.002*would + 0.002*dog + 0.002*find + 0.002*food + 0.002*tea + 0.002*eat + 0.002*give + 0.002*really + 0.002*time + 0.002*go'),\n",
       " (4,\n",
       "  '0.005*good + 0.004*taste + 0.003*product + 0.003*coffee + 0.003*love + 0.003*make + 0.003*great + 0.003*try + 0.003*use + 0.003*buy + 0.002*dog + 0.002*really + 0.002*would + 0.002*go + 0.002*find + 0.002*food + 0.002*tea + 0.002*eat + 0.002*time + 0.002*bag'),\n",
       " (5,\n",
       "  '0.004*good + 0.004*taste + 0.003*coffee + 0.003*love + 0.003*product + 0.003*use + 0.003*make + 0.003*try + 0.003*great + 0.003*buy + 0.003*find + 0.002*would + 0.002*dog + 0.002*tea + 0.002*eat + 0.002*food + 0.002*much + 0.002*go + 0.002*time + 0.002*little'),\n",
       " (6,\n",
       "  '0.005*good + 0.004*taste + 0.003*product + 0.003*coffee + 0.003*love + 0.003*great + 0.003*make + 0.003*use + 0.003*try + 0.003*buy + 0.002*dog + 0.002*would + 0.002*find + 0.002*tea + 0.002*food + 0.002*eat + 0.002*really + 0.002*go + 0.002*time + 0.001*much'),\n",
       " (7,\n",
       "  '0.004*good + 0.004*taste + 0.003*coffee + 0.003*product + 0.003*love + 0.003*make + 0.003*great + 0.003*try + 0.003*use + 0.003*buy + 0.002*dog + 0.002*find + 0.002*would + 0.002*eat + 0.002*tea + 0.002*food + 0.002*really + 0.002*time + 0.002*go + 0.002*price'),\n",
       " (8,\n",
       "  '0.004*good + 0.004*taste + 0.003*coffee + 0.003*product + 0.003*love + 0.003*use + 0.003*great + 0.003*make + 0.003*try + 0.002*buy + 0.002*would + 0.002*dog + 0.002*find + 0.002*eat + 0.002*tea + 0.002*food + 0.002*time + 0.002*go + 0.002*really + 0.001*give'),\n",
       " (9,\n",
       "  '0.004*good + 0.004*taste + 0.003*coffee + 0.003*love + 0.003*product + 0.003*make + 0.003*use + 0.003*great + 0.003*try + 0.002*buy + 0.002*would + 0.002*dog + 0.002*find + 0.002*time + 0.002*food + 0.002*tea + 0.002*eat + 0.002*really + 0.002*go + 0.002*think'),\n",
       " (10,\n",
       "  '0.004*good + 0.004*taste + 0.003*coffee + 0.003*product + 0.003*use + 0.003*love + 0.003*make + 0.003*try + 0.003*great + 0.003*buy + 0.002*would + 0.002*dog + 0.002*find + 0.002*eat + 0.002*tea + 0.002*food + 0.002*time + 0.002*really + 0.002*go + 0.002*give'),\n",
       " (11,\n",
       "  '0.004*good + 0.004*taste + 0.003*coffee + 0.003*make + 0.003*love + 0.003*product + 0.003*great + 0.003*use + 0.003*try + 0.002*buy + 0.002*would + 0.002*find + 0.002*dog + 0.002*food + 0.002*eat + 0.002*tea + 0.002*order + 0.002*time + 0.002*really + 0.002*go'),\n",
       " (12,\n",
       "  '0.005*good + 0.004*taste + 0.003*coffee + 0.003*love + 0.003*product + 0.003*try + 0.003*make + 0.003*great + 0.003*use + 0.003*buy + 0.002*would + 0.002*food + 0.002*dog + 0.002*find + 0.002*eat + 0.002*really + 0.002*tea + 0.002*order + 0.002*time + 0.002*go'),\n",
       " (13,\n",
       "  '0.005*good + 0.004*taste + 0.003*coffee + 0.003*product + 0.003*love + 0.003*make + 0.003*great + 0.003*use + 0.003*try + 0.003*buy + 0.002*would + 0.002*find + 0.002*dog + 0.002*food + 0.002*tea + 0.002*eat + 0.002*really + 0.002*time + 0.002*go + 0.002*much'),\n",
       " (14,\n",
       "  '0.005*good + 0.004*taste + 0.003*coffee + 0.003*product + 0.003*love + 0.003*use + 0.003*make + 0.003*great + 0.003*try + 0.002*buy + 0.002*dog + 0.002*would + 0.002*food + 0.002*find + 0.002*think + 0.002*eat + 0.002*tea + 0.002*go + 0.002*time + 0.002*really'),\n",
       " (15,\n",
       "  '0.005*good + 0.004*taste + 0.003*coffee + 0.003*love + 0.003*product + 0.003*make + 0.003*use + 0.003*great + 0.003*try + 0.003*buy + 0.002*would + 0.002*dog + 0.002*find + 0.002*eat + 0.002*food + 0.002*tea + 0.002*time + 0.002*much + 0.002*order + 0.002*really'),\n",
       " (16,\n",
       "  '0.005*good + 0.004*taste + 0.003*product + 0.003*coffee + 0.003*love + 0.003*make + 0.003*use + 0.003*try + 0.003*great + 0.003*buy + 0.002*dog + 0.002*would + 0.002*find + 0.002*food + 0.002*eat + 0.002*really + 0.002*tea + 0.002*little + 0.002*price + 0.002*time'),\n",
       " (17,\n",
       "  '0.005*good + 0.004*taste + 0.003*coffee + 0.003*love + 0.003*product + 0.003*make + 0.003*try + 0.003*great + 0.003*use + 0.003*buy + 0.003*would + 0.002*dog + 0.002*find + 0.002*eat + 0.002*time + 0.002*tea + 0.002*food + 0.002*really + 0.002*go + 0.002*much'),\n",
       " (18,\n",
       "  '0.004*good + 0.004*taste + 0.003*coffee + 0.003*product + 0.003*love + 0.003*make + 0.003*use + 0.003*great + 0.003*try + 0.003*buy + 0.002*dog + 0.002*would + 0.002*find + 0.002*food + 0.002*eat + 0.002*tea + 0.002*time + 0.002*much + 0.002*really + 0.002*go'),\n",
       " (19,\n",
       "  '0.004*good + 0.004*taste + 0.003*coffee + 0.003*product + 0.003*love + 0.003*make + 0.003*try + 0.003*use + 0.003*great + 0.003*buy + 0.002*would + 0.002*dog + 0.002*find + 0.002*food + 0.002*eat + 0.002*tea + 0.002*go + 0.002*really + 0.002*time + 0.002*much')]"
      ]
     },
     "execution_count": 54,
     "metadata": {},
     "output_type": "execute_result"
    }
   ],
   "source": [
    "hdpmodel.show_topics()"
   ]
  },
  {
   "cell_type": "code",
   "execution_count": 53,
   "metadata": {},
   "outputs": [
    {
     "name": "stdout",
     "output_type": "stream",
     "text": [
      "\n",
      "Coherence Score:  0.8632288691974509\n"
     ]
    }
   ],
   "source": [
    "from gensim.models import CoherenceModel# Compute Coherence Score\n",
    "\n",
    "coherence_model_hdp = CoherenceModel(model=hdpmodel, texts=data_lemmatized, dictionary=id2word, coherence='c_v')\n",
    "coherence_hdp = coherence_model_hdp.get_coherence()\n",
    "\n",
    "print('\\nCoherence Score: ', coherence_hdp)"
   ]
  },
  {
   "cell_type": "code",
   "execution_count": 70,
   "metadata": {},
   "outputs": [],
   "source": [
    "#lsitopics = [[word for word, prob in topic] for topicid, topic in lsimodel.show_topics(formatted=False)]\n",
    "\n",
    "hdptopics = [[word for word, prob in topic] for topicid, topic in hdpmodel.show_topics(formatted=False)]\n",
    "\n",
    "ldatopics = [[word for word, prob in topic] for topicid, topic in lda_model.show_topics(formatted=False)]"
   ]
  },
  {
   "cell_type": "code",
   "execution_count": 76,
   "metadata": {},
   "outputs": [],
   "source": [
    "hdp_coherence = CoherenceModel(topics=hdptopics[:10], texts=texts, dictionary=dictionary, window_size=10).get_coherence()\n",
    "\n",
    "lda_coherence = CoherenceModel(topics=ldatopics, texts=texts, dictionary=dictionary, window_size=10).get_coherence()"
   ]
  },
  {
   "cell_type": "code",
   "execution_count": 77,
   "metadata": {},
   "outputs": [],
   "source": [
    "def evaluate_bar_graph(coherences, indices):\n",
    "    \"\"\"\n",
    "    Function to plot bar graph.\n",
    "    \n",
    "    coherences: list of coherence values\n",
    "    indices: Indices to be used to mark bars. Length of this and coherences should be equal.\n",
    "    \"\"\"\n",
    "    assert len(coherences) == len(indices)\n",
    "    n = len(coherences)\n",
    "    x = np.arange(n)\n",
    "    plt.bar(x, coherences, width=0.2, tick_label=indices, align='center')\n",
    "    plt.xlabel('Models')\n",
    "    plt.ylabel('Coherence Value')"
   ]
  },
  {
   "cell_type": "code",
   "execution_count": 79,
   "metadata": {},
   "outputs": [
    {
     "data": {
      "image/png": "[encoded data removed]",
      "text/plain": [
       "<Figure size 432x288 with 1 Axes>"
      ]
     },
     "metadata": {
      "needs_background": "light"
     },
     "output_type": "display_data"
    }
   ],
   "source": [
    "evaluate_bar_graph([hdp_coherence, lda_coherence],\n",
    "                   [ 'HDP', 'LDA'])"
   ]
  }
 ],
 "metadata": {
  "kernelspec": {
   "display_name": "Python 3",
   "language": "python",
   "name": "python3"
  },
  "language_info": {
   "codemirror_mode": {
    "name": "ipython",
    "version": 3
   },
   "file_extension": ".py",
   "mimetype": "text/x-python",
   "name": "python",
   "nbconvert_exporter": "python",
   "pygments_lexer": "ipython3",
   "version": "3.7.6"
  }
 },
 "nbformat": 4,
 "nbformat_minor": 4
}
